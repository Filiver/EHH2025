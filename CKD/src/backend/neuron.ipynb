{
 "cells": [
  {
   "cell_type": "code",
   "execution_count": 130,
   "metadata": {},
   "outputs": [
    {
     "name": "stdout",
     "output_type": "stream",
     "text": [
      "The autoreload extension is already loaded. To reload it, use:\n",
      "  %reload_ext autoreload\n"
     ]
    }
   ],
   "source": [
    "%load_ext autoreload\n",
    "%autoreload 2\n",
    "from pathlib import Path\n",
    "import pandas as pd\n",
    "import numpy as np\n",
    "import matplotlib.pyplot as plt\n",
    "import sqlite3\n",
    "from model import *\n",
    "from neuron import *\n",
    "from datetime import datetime\n",
    "np.random.seed(10)\n",
    "\n",
    "DATA_DIR = Path(\"../../data\")\n",
    "res = pd.read_csv(DATA_DIR / \"first_diagnosis.csv\")[[\"Patient\",\"EntryDate\"]]\n",
    "positive = res['Patient']\n",
    "date_of_pos =res['EntryDate']\n",
    "\n",
    "negative = pd.read_csv(DATA_DIR / \"ckd_negative.csv\")[\"Patient_id\"]\n",
    "\n",
    "TRN_PORTION = 0.7\n",
    "\n",
    "pos_trn_idxs, pos_tst_idxs, neg_trn_idxs, neg_tst_idxs = generate(len(positive), len(negative), TRN_PORTION)\n",
    "\n",
    "pos_trn = positive[pos_trn_idxs].values\n",
    "pos_tst = positive[pos_tst_idxs].values\n",
    "neg_trn = negative[neg_trn_idxs].values\n",
    "neg_tst = negative[neg_tst_idxs].values\n",
    "date_of_pos_trn = date_of_pos[pos_trn_idxs].values\n",
    "date_of_pos_tst = date_of_pos[pos_tst_idxs].values\n"
   ]
  },
  {
   "cell_type": "code",
   "execution_count": 131,
   "metadata": {},
   "outputs": [
    {
     "name": "stdout",
     "output_type": "stream",
     "text": [
      "<class 'numpy.ndarray'>\n",
      "(965,)\n"
     ]
    }
   ],
   "source": [
    "print(type(pos_trn))\n",
    "\n",
    "# pos_trn = pos_trn.values\n",
    "print(pos_trn.shape)\n",
    "# pos_tst = pos_tst.values\n",
    "# neg_trn = neg_trn.values\n",
    "# neg_tst = neg_tst.values\n",
    "# pos_trn.to_csv(DATA_DIR/\"TRN\"/\"pos_trn.csv\", index=False)\n",
    "# pos_tst.to_csv(DATA_DIR/\"TST\"/\"pos_tst.csv\", index=False)\n",
    "# neg_trn.to_csv(DATA_DIR/\"TRN\"/\"neg_trn.csv\", index=False)\n",
    "# neg_tst.to_csv(DATA_DIR/\"TST\"/\"neg_tst.csv\", index=False)"
   ]
  },
  {
   "cell_type": "code",
   "execution_count": 133,
   "metadata": {},
   "outputs": [
    {
     "ename": "TypeError",
     "evalue": "unsupported operand type(s) for /: 'NoneType' and 'int'",
     "output_type": "error",
     "traceback": [
      "\u001b[31m---------------------------------------------------------------------------\u001b[39m",
      "\u001b[31mTypeError\u001b[39m                                 Traceback (most recent call last)",
      "\u001b[36mCell\u001b[39m\u001b[36m \u001b[39m\u001b[32mIn[133]\u001b[39m\u001b[32m, line 2\u001b[39m\n\u001b[32m      1\u001b[39m \u001b[38;5;66;03m# pos_patients = [Patient(p, datetime.strptime(date_of_pos_trn[i], \"%Y-%m-%d\").date()) for i, p in enumerate(pos_trn)]\u001b[39;00m\n\u001b[32m----> \u001b[39m\u001b[32m2\u001b[39m \u001b[43mPatient\u001b[49m\u001b[43m(\u001b[49m\u001b[43mpos_trn\u001b[49m\u001b[43m[\u001b[49m\u001b[32;43m0\u001b[39;49m\u001b[43m]\u001b[49m\u001b[43m,\u001b[49m\u001b[43m \u001b[49m\u001b[38;5;28;43;01mNone\u001b[39;49;00m\u001b[43m)\u001b[49m\n",
      "\u001b[36mFile \u001b[39m\u001b[32m<string>:7\u001b[39m, in \u001b[36m__init__\u001b[39m\u001b[34m(self, patient_id, date, period)\u001b[39m\n",
      "\u001b[36mFile \u001b[39m\u001b[32m<string>:31\u001b[39m, in \u001b[36mget_egfr\u001b[39m\u001b[34m(self, date, period)\u001b[39m\n",
      "\u001b[31mTypeError\u001b[39m: unsupported operand type(s) for /: 'NoneType' and 'int'"
     ]
    }
   ],
   "source": [
    "# pos_patients = [Patient(p, datetime.strptime(date_of_pos_trn[i], \"%Y-%m-%d\").date()) for i, p in enumerate(pos_trn)]\n",
    "Patient(pos_trn[0], None)\n"
   ]
  }
 ],
 "metadata": {
  "kernelspec": {
   "display_name": ".venv",
   "language": "python",
   "name": "python3"
  },
  "language_info": {
   "codemirror_mode": {
    "name": "ipython",
    "version": 3
   },
   "file_extension": ".py",
   "mimetype": "text/x-python",
   "name": "python",
   "nbconvert_exporter": "python",
   "pygments_lexer": "ipython3",
   "version": "3.12.3"
  }
 },
 "nbformat": 4,
 "nbformat_minor": 2
}
