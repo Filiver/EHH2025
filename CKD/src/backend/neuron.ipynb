{
 "cells": [
  {
   "cell_type": "code",
   "execution_count": 3,
   "metadata": {},
   "outputs": [
    {
     "name": "stdout",
     "output_type": "stream",
     "text": [
      "The autoreload extension is already loaded. To reload it, use:\n",
      "  %reload_ext autoreload\n"
     ]
    }
   ],
   "source": [
    "%load_ext autoreload\n",
    "%autoreload 2\n",
    "from pathlib import Path\n",
    "import pandas as pd\n",
    "import numpy as np\n",
    "import matplotlib.pyplot as plt\n",
    "import sqlite3\n",
    "from model import *\n",
    "from neuron import *\n",
    "\n",
    "DATA_DIR = Path(\"../../data\")\n",
    "res = pd.read_csv(DATA_DIR / \"first_diagnosis.csv\")[[\"Patient\",\"EntryDate\"]]\n",
    "positive = res['Patient'].values\n",
    "date_of_pos =res['EntryDate'].values\n",
    "\n",
    "negative = pd.read_csv(DATA_DIR / \"ckd_negative.csv\")[\"Patient_id\"].values\n",
    "\n",
    "TRN_PORTION = 0.7\n",
    "\n",
    "pos_trn_idxs, pos_tst_idxs, neg_trn_idxs, neg_tst_idxs = generate(len(positive), len(negative), TRN_PORTION)\n"
   ]
  },
  {
   "cell_type": "code",
   "execution_count": null,
   "metadata": {},
   "outputs": [
    {
     "data": {
      "text/plain": [
       "array([1329530, 1329540, 1329570, ..., 1522980, 1523010, 1523060],\n",
       "      shape=(4416,))"
      ]
     },
     "execution_count": 27,
     "metadata": {},
     "output_type": "execute_result"
    }
   ],
   "source": []
  }
 ],
 "metadata": {
  "kernelspec": {
   "display_name": ".venv",
   "language": "python",
   "name": "python3"
  },
  "language_info": {
   "codemirror_mode": {
    "name": "ipython",
    "version": 3
   },
   "file_extension": ".py",
   "mimetype": "text/x-python",
   "name": "python",
   "nbconvert_exporter": "python",
   "pygments_lexer": "ipython3",
   "version": "3.12.3"
  }
 },
 "nbformat": 4,
 "nbformat_minor": 2
}
