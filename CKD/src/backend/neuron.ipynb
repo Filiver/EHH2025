{
 "cells": [
  {
   "cell_type": "code",
   "execution_count": 29,
   "metadata": {},
   "outputs": [
    {
     "name": "stdout",
     "output_type": "stream",
     "text": [
      "The autoreload extension is already loaded. To reload it, use:\n",
      "  %reload_ext autoreload\n"
     ]
    }
   ],
   "source": [
    "%load_ext autoreload\n",
    "%autoreload 2\n",
    "from pathlib import Path\n",
    "import pandas as pd\n",
    "import numpy as np\n",
    "import matplotlib.pyplot as plt\n",
    "import sqlite3\n",
    "from model import *\n",
    "from neuron import *\n",
    "from datetime import datetime\n",
    "np.random.seed(10)\n",
    "\n",
    "DATA_DIR = Path(\"../../data\")\n",
    "res = pd.read_csv(DATA_DIR / \"first_diagnosis.csv\")[[\"Patient\",\"EntryDate\"]]\n",
    "positive = res['Patient']\n",
    "date_of_pos =res['EntryDate']\n",
    "\n",
    "negative = pd.read_csv(DATA_DIR / \"ckd_negative.csv\")[\"Patient_id\"]\n",
    "\n",
    "TRN_PORTION = 0.7\n",
    "\n",
    "pos_trn_idxs, pos_tst_idxs, neg_trn_idxs, neg_tst_idxs = generate(len(positive), len(negative), TRN_PORTION)\n",
    "\n",
    "pos_trn = positive[pos_trn_idxs]\n",
    "pos_tst = positive[pos_tst_idxs]\n",
    "neg_trn = negative[neg_trn_idxs]\n",
    "neg_tst = negative[neg_tst_idxs]\n",
    "date_of_pos_trn = date_of_pos[pos_trn_idxs]\n",
    "date_of_pos_tst = date_of_pos[pos_tst_idxs]\n"
   ]
  },
  {
   "cell_type": "code",
   "execution_count": 32,
   "metadata": {},
   "outputs": [
    {
     "name": "stdout",
     "output_type": "stream",
     "text": [
      "<class 'pandas.core.series.Series'>\n"
     ]
    }
   ],
   "source": [
    "print(type(pos_trn))\n",
    "pos_trn.to_csv(DATA_DIR/\"TRN\"/\"pos_trn.csv\", index=False)\n",
    "pos_tst.to_csv(DATA_DIR/\"TRN\"/\"pos_tst.csv\", index=False)\n",
    "neg_trn.to_csv(DATA_DIR/\"TST\"/\"neg_trn.csv\", index=False)\n",
    "neg_tst.to_csv(DATA_DIR/\"TST\"/\"neg_tst.csv\", index=False)"
   ]
  },
  {
   "cell_type": "code",
   "execution_count": null,
   "metadata": {},
   "outputs": [
    {
     "name": "stdout",
     "output_type": "stream",
     "text": [
      "Pacient nemá provedené žádné měření UACR\n"
     ]
    },
    {
     "data": {
      "text/plain": [
       "<model.Patient at 0x7c51aa967ef0>"
      ]
     },
     "execution_count": 26,
     "metadata": {},
     "output_type": "execute_result"
    }
   ],
   "source": [
    "# Patient(int(pos_trn[0]),datetime.strptime(date_of_pos_trn[0], '%Y-%m-%d'))\n",
    "\n"
   ]
  }
 ],
 "metadata": {
  "kernelspec": {
   "display_name": ".venv",
   "language": "python",
   "name": "python3"
  },
  "language_info": {
   "codemirror_mode": {
    "name": "ipython",
    "version": 3
   },
   "file_extension": ".py",
   "mimetype": "text/x-python",
   "name": "python",
   "nbconvert_exporter": "python",
   "pygments_lexer": "ipython3",
   "version": "3.12.3"
  }
 },
 "nbformat": 4,
 "nbformat_minor": 2
}
