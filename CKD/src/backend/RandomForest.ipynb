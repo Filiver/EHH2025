{
 "cells": [
  {
   "cell_type": "code",
   "execution_count": 1,
   "id": "76cad69b-d1d0-4282-a60b-07f0950013ff",
   "metadata": {},
   "outputs": [],
   "source": [
    "import pandas as pd\n",
    "import numpy as np\n",
    "import random\n",
    "\n",
    "import seaborn as sns\n",
    "\n",
    "from sklearn.model_selection import train_test_split, ParameterGrid\n",
    "import sklearn.metrics as metrics\n",
    "from sklearn.ensemble import RandomForestClassifier\n",
    "\n",
    "import matplotlib.pyplot as plt\n",
    "import matplotlib\n",
    "%matplotlib inline\n",
    "%load_ext autoreload\n",
    "%autoreload 2\n",
    "\n",
    "from tqdm import tqdm\n",
    "\n",
    "from model import Patient\n",
    "\n",
    "from datetime import datetime\n",
    "\n",
    "random_seed = 42"
   ]
  },
  {
   "cell_type": "code",
   "execution_count": 2,
   "id": "e13e4b82-c23b-4dcf-aebe-5cbbb06698cf",
   "metadata": {},
   "outputs": [],
   "source": [
    "first_diag = pd.read_csv('../../data/first_diagnosis.csv')"
   ]
  },
  {
   "cell_type": "code",
   "execution_count": 82,
   "id": "d3a8920f-7988-40dd-9a28-5294856ee8f9",
   "metadata": {},
   "outputs": [],
   "source": [
    "def get_first_diagnosis(pid):\n",
    "    # print(pid)\n",
    "    res = first_diag[(first_diag['Patient'] == pid)]['EntryDate']\n",
    "    # print(len(res))\n",
    "    if(len(res) == 0): return None\n",
    "    # # else: return res[0]\n",
    "    else: \n",
    "        # print(type(res),res.iloc[0])\n",
    "        # print(res.iloc[0])\n",
    "        return datetime.strptime(res.iloc[0], '%Y-%m-%d').date()\n",
    "    # if len(res) == 0: return None \\\n",
    "    # else: return datetime.strptime(get_first_diagnosis(res.iloc[0]), '%Y-%m-%d').date()"
   ]
  },
  {
   "cell_type": "code",
   "execution_count": 84,
   "id": "63be0ca7-1511-4d85-ad01-a3a7e045a4dd",
   "metadata": {},
   "outputs": [
    {
     "name": "stdout",
     "output_type": "stream",
     "text": [
      "2023-08-02\n"
     ]
    }
   ],
   "source": [
    "print(get_first_diagnosis(194430))"
   ]
  },
  {
   "cell_type": "code",
   "execution_count": 94,
   "id": "3e47c033-dadd-4cc0-9c36-872e7621d4a6",
   "metadata": {},
   "outputs": [],
   "source": [
    "def patient_to_row(patient, CKD):\n",
    "    return [patient.patient_id, CKD, patient.ckd_stage, patient.sex, patient.age, patient.egfr, patient.average_egfr, \n",
    "            patient.uacr, patient.average_uacr, patient.pu, patient.average_pu, patient.upcr, patient.average_upcr]\n",
    "    "
   ]
  },
  {
   "cell_type": "code",
   "execution_count": 86,
   "id": "3a14a05f-6a88-4779-8b67-828ffba3fc45",
   "metadata": {},
   "outputs": [],
   "source": [
    "train_ids_pos = pd.read_csv('../../data/TRN/pos_trn.csv')\n",
    "train_ids_neg = pd.read_csv('../../data/TRN/neg_trn.csv')\n",
    "train_ids_neg.rename(columns={'Patient_id': 'Patient'}, inplace=True)\n",
    "train_ids = pd.concat([train_ids_pos, train_ids_neg])\n",
    "train_ids['Patient'] = train_ids['Patient'].astype(int)"
   ]
  },
  {
   "cell_type": "code",
   "execution_count": 87,
   "id": "39914092-e6e6-4de5-bde7-9b5474dcb880",
   "metadata": {},
   "outputs": [],
   "source": [
    "train_ids = train_ids['Patient'].to_list()"
   ]
  },
  {
   "cell_type": "code",
   "execution_count": 88,
   "id": "9ba8df46-3b2f-4601-8522-dc14b5049656",
   "metadata": {},
   "outputs": [],
   "source": [
    "random.seed(random_seed)\n",
    "random.shuffle(train_ids)"
   ]
  },
  {
   "cell_type": "code",
   "execution_count": 95,
   "id": "5d243cd5-7356-4e89-af1d-86bfe4a4e1c2",
   "metadata": {},
   "outputs": [],
   "source": [
    "def patients_to_df(id_list):\n",
    "    columns=['ID', 'CDK', 'CDK_stage' 'sex', 'age', 'last_egfr', 'avg_egfr', 'last_uacr', 'average_uacr', 'last_pu', 'average_pu'\n",
    "            'last_upcr', 'average_upcr']\n",
    "    rows = []\n",
    "    for pid in tqdm(id_list):\n",
    "        fd = get_first_diagnosis(pid)\n",
    "        CKD = fd == None\n",
    "        rows.append(patient_to_row(Patient(pid, fd), CKD))\n",
    "    return pd.DataFrame(rows, columns=columns)"
   ]
  },
  {
   "cell_type": "code",
   "execution_count": null,
   "id": "212d44d0-91e5-445d-b5cd-21f70b76498a",
   "metadata": {},
   "outputs": [
    {
     "name": "stderr",
     "output_type": "stream",
     "text": [
      "  3%|██▏                                                                         | 327/11267 [02:34<1:19:57,  2.28it/s]"
     ]
    }
   ],
   "source": [
    "df = patients_to_df(train_ids)"
   ]
  },
  {
   "cell_type": "code",
   "execution_count": null,
   "id": "d3c561f3-2fc0-46aa-b9f5-39d8ea806273",
   "metadata": {},
   "outputs": [],
   "source": [
    "X_train, X_val, y_train, y_val = train_test_split(df.drop(columns = ['CKD']), df['CKD'], test_size=0.2, random_state=random_seed)"
   ]
  },
  {
   "cell_type": "code",
   "execution_count": null,
   "id": "9b540199-9037-4d18-a74e-9fceda80aa18",
   "metadata": {},
   "outputs": [],
   "source": [
    "clf = RandomForestClassifier(max_depth=3, random_state=random_seed)\n",
    "clf.fit(X_train, y_train)"
   ]
  },
  {
   "cell_type": "code",
   "execution_count": null,
   "id": "11dc645e-17a4-42bb-8ed9-33d6336ae963",
   "metadata": {},
   "outputs": [],
   "source": [
    "print(f\"train RMSE: {root_mean_squared_error(y_train, reg_RF.predict(X_train))}\")\n",
    "print(f\"val RMSE: {root_mean_squared_error(y_val, reg_RF.predict(X_val))}\")"
   ]
  },
  {
   "cell_type": "code",
   "execution_count": null,
   "id": "be1dcc9f-8d7b-41e6-bc80-0964fbf11e59",
   "metadata": {},
   "outputs": [],
   "source": [
    "def test_models(X_train, X_val, y_train, y_val):\n",
    "    param_grid = { \n",
    "    'criterion': ['friedman_mse'],\n",
    "    # 'criterion': ['squared_error', 'friedman_mse', 'absolute_error'],\n",
    "    # 'min_samples_split': range(3,8),\n",
    "    # 'min_samples_leaf': range(1,5)\n",
    "    }\n",
    "    param_comb = ParameterGrid(param_grid)\n",
    "\n",
    "    best_rmse = float(\"inf\")\n",
    "    best_params = None\n",
    "    best_depth = None\n",
    "    best_n_estimators = None\n",
    "    best_max_samples = None\n",
    "\n",
    "    rmses = []\n",
    "    best_reg = None\n",
    "    \n",
    "    # n_estimators, max_samples, max_depth\n",
    "    for tqdm(n_estim in range(10, 100, 10)):\n",
    "        for depth in range(2, 6):\n",
    "            for param in param_comb:\n",
    "                clf = RandomForestClassifier(n_estimators=n_estim, max_depth=depth, **param)\n",
    "                clf.fit(X_train, y_train)\n",
    "                rmse = root_mean_squared_error(clf.predict(X_val), y_val)\n",
    "                if(rmse < best_rmse):\n",
    "                    best_depth = depth\n",
    "                    best_n_estimators = n_estim\n",
    "                    best_params = param\n",
    "                    best_rmse = rmse\n",
    "                    rmses.append(rmse)\n",
    "                    best_clf = clf\n",
    "        \n",
    "\n",
    "\n",
    "    print(f\"best_rmse: {best_rmse}\")\n",
    "    print(f\"best_depth: {best_depth}\")\n",
    "    print(f\"best_n_estimators: {best_n_estimators}\")\n",
    "    print(f\"best_params: {best_params}\")\n",
    "\n",
    "    return best_rmse, best_depth, best_n_estimators, best_params, rmses, best_clf"
   ]
  }
 ],
 "metadata": {
  "kernelspec": {
   "display_name": "Python 3 (ipykernel)",
   "language": "python",
   "name": "python3"
  },
  "language_info": {
   "codemirror_mode": {
    "name": "ipython",
    "version": 3
   },
   "file_extension": ".py",
   "mimetype": "text/x-python",
   "name": "python",
   "nbconvert_exporter": "python",
   "pygments_lexer": "ipython3",
   "version": "3.12.3"
  }
 },
 "nbformat": 4,
 "nbformat_minor": 5
}
