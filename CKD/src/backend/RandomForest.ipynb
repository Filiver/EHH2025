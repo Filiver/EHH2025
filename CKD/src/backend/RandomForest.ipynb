{
 "cells": [
  {
   "cell_type": "code",
   "execution_count": 45,
   "id": "76cad69b-d1d0-4282-a60b-07f0950013ff",
   "metadata": {},
   "outputs": [],
   "source": [
    "import pandas as pd\n",
    "import numpy as np\n",
    "import random\n",
    "\n",
    "from model import Patient\n",
    "\n",
    "random_seed = 42"
   ]
  },
  {
   "cell_type": "code",
   "execution_count": 6,
   "id": "3e47c033-dadd-4cc0-9c36-872e7621d4a6",
   "metadata": {},
   "outputs": [],
   "source": [
    "def patient_to_row(patient):\n",
    "    return [patient.patient_id, \"\"\"CKD\"\"\", patient.sex, patient.age, ]\n",
    "    "
   ]
  },
  {
   "cell_type": "code",
   "execution_count": 42,
   "id": "39914092-e6e6-4de5-bde7-9b5474dcb880",
   "metadata": {},
   "outputs": [],
   "source": [
    "train_ids = train_ids['Patient'].to_list()"
   ]
  },
  {
   "cell_type": "code",
   "execution_count": 46,
   "id": "9ba8df46-3b2f-4601-8522-dc14b5049656",
   "metadata": {},
   "outputs": [],
   "source": [
    "random.seed(random_seed)\n",
    "random.shuffle(train_ids)"
   ]
  },
  {
   "cell_type": "code",
   "execution_count": 41,
   "id": "3a14a05f-6a88-4779-8b67-828ffba3fc45",
   "metadata": {},
   "outputs": [],
   "source": [
    "train_ids_pos = pd.read_csv('../../data/TRN/pos_trn.csv')\n",
    "train_ids_neg = pd.read_csv('../../data/TRN/neg_trn.csv')\n",
    "train_ids_neg.rename(columns={'Patient_id': 'Patient'}, inplace=True)\n",
    "train_ids = pd.concat([train_ids_pos, train_ids_neg])\n",
    "train_ids['Patient'] = train_ids['Patient'].astype(int)"
   ]
  },
  {
   "cell_type": "code",
   "execution_count": 48,
   "id": "5d243cd5-7356-4e89-af1d-86bfe4a4e1c2",
   "metadata": {},
   "outputs": [],
   "source": [
    "def patients_to_df(id_list):\n",
    "    columns=['ID', 'CDK', 'sex', 'age', 'last_eGFR', 'avg_eGFR', 'last_uACR', 'avg_uACR']"
   ]
  }
 ],
 "metadata": {
  "kernelspec": {
   "display_name": "Python 3 (ipykernel)",
   "language": "python",
   "name": "python3"
  },
  "language_info": {
   "codemirror_mode": {
    "name": "ipython",
    "version": 3
   },
   "file_extension": ".py",
   "mimetype": "text/x-python",
   "name": "python",
   "nbconvert_exporter": "python",
   "pygments_lexer": "ipython3",
   "version": "3.12.5"
  }
 },
 "nbformat": 4,
 "nbformat_minor": 5
}
