{
 "cells": [
  {
   "metadata": {},
   "cell_type": "code",
   "outputs": [],
   "execution_count": null,
   "source": [
    "import pandas as pd\n",
    "import numpy as np\n",
    "import random\n",
    "\n",
    "import pickle\n",
    "# import seaborn as sns\n",
    "\n",
    "from sklearn.tree import plot_tree\n",
    "from sklearn.model_selection import train_test_split, ParameterGrid\n",
    "from sklearn.metrics import recall_score, accuracy_score, precision_score, f1_score, roc_auc_score, confusion_matrix, make_scorer\n",
    "from sklearn.model_selection import GridSearchCV, StratifiedKFold\n",
    "from sklearn.ensemble import RandomForestClassifier\n",
    "\n",
    "import matplotlib.pyplot as plt\n",
    "import matplotlib\n",
    "%matplotlib inline\n",
    "%load_ext autoreload\n",
    "%autoreload 2\n",
    "\n",
    "from tqdm import tqdm\n",
    "\n",
    "from model import Patient\n",
    "# Update to new DB\n",
    "from datetime import datetime, timedelta\n",
    "\n",
    "random_seed = 42"
   ],
   "id": "f8b9c8352f028741"
  },
  {
   "metadata": {},
   "cell_type": "code",
   "outputs": [],
   "execution_count": null,
   "source": "first_diag = pd.read_csv('../../data/first_diagnosis.csv')",
   "id": "81c069bc9efb6386"
  },
  {
   "metadata": {},
   "cell_type": "code",
   "outputs": [],
   "execution_count": null,
   "source": [
    "def get_first_diagnosis(pid):\n",
    "    # print(pid)\n",
    "    res = first_diag[(first_diag['Patient'] == pid)]['EntryDate']\n",
    "    # print(len(res))\n",
    "    if(len(res) == 0): return None\n",
    "    # # else: return res[0]\n",
    "    else:\n",
    "        # print(type(res),res.iloc[0])\n",
    "        # print(res.iloc[0])\n",
    "        return datetime.strptime(res.iloc[0], '%Y-%m-%d').date()\n",
    "    # if len(res) == 0: return None \\\n",
    "    # else: return datetime.strptime(get_first_diagnosis(res.iloc[0]), '%Y-%m-%d').date()"
   ],
   "id": "670b06714e9655f1"
  },
  {
   "metadata": {},
   "cell_type": "code",
   "outputs": [],
   "execution_count": null,
   "source": "print(get_first_diagnosis(194430))",
   "id": "6635ce71e55a13be"
  },
  {
   "metadata": {},
   "cell_type": "code",
   "outputs": [],
   "execution_count": null,
   "source": [
    "def patient_to_row(patient, CKD):\n",
    "    cols = [patient.patient_id, bool(CKD), patient.ckd_stage, patient.sex, patient.age, patient.egfr, patient.average_egfr,\n",
    "            patient.uacr, patient.average_uacr, patient.pu, patient.average_pu, patient.upcr, patient.average_upcr]\n",
    "    diag = patient.diagnoses\n",
    "    transplants = patient.transplants\n",
    "    cols = np.concatenate([cols, diag, transplants])\n",
    "    return cols\n"
   ],
   "id": "cc965c64b90351fe"
  },
  {
   "metadata": {},
   "cell_type": "code",
   "outputs": [],
   "execution_count": null,
   "source": [
    "train_ids_pos = pd.read_csv('../../data/TRN/pos_trn.csv')\n",
    "train_ids_neg = pd.read_csv('../../data/TRN/neg_trn.csv')\n",
    "train_ids_neg.rename(columns={'Patient_id': 'Patient'}, inplace=True)\n",
    "train_ids = pd.concat([train_ids_pos, train_ids_neg])\n",
    "train_ids['Patient'] = train_ids['Patient'].astype(int)"
   ],
   "id": "7ac728cdbd6f46da"
  },
  {
   "metadata": {},
   "cell_type": "code",
   "outputs": [],
   "execution_count": null,
   "source": [
    "test_ids_pos = pd.read_csv('../../data/TST/pos_tst.csv')\n",
    "test_ids_neg = pd.read_csv('../../data/TST/neg_tst.csv')\n",
    "test_ids_neg.rename(columns={'Patient_id': 'Patient'}, inplace=True)\n",
    "test_ids = pd.concat([test_ids_pos, test_ids_neg])\n",
    "test_ids['Patient'] = test_ids['Patient'].astype(int)"
   ],
   "id": "b1a7a8abec3aa99b"
  },
  {
   "metadata": {},
   "cell_type": "code",
   "outputs": [],
   "execution_count": null,
   "source": "train_ids_pos.head()",
   "id": "3173ec6741a8a279"
  },
  {
   "metadata": {},
   "cell_type": "code",
   "outputs": [],
   "execution_count": null,
   "source": [
    "train_ids = train_ids['Patient'].to_list()\n",
    "test_ids = test_ids['Patient'].to_list()"
   ],
   "id": "ca80e62b202189f5"
  },
  {
   "metadata": {},
   "cell_type": "code",
   "outputs": [],
   "execution_count": null,
   "source": [
    "random.seed(random_seed)\n",
    "random.shuffle(train_ids)\n",
    "random.shuffle(test_ids)"
   ],
   "id": "1db232103ea0ff6d"
  },
  {
   "metadata": {},
   "cell_type": "code",
   "outputs": [],
   "execution_count": null,
   "source": [
    "def patients_to_df(id_list, delta=365, crop_when_diagnosed=True):\n",
    "    columns=['ID', 'CKD', 'CKD_stage', 'sex', 'age', 'last_egfr', 'avg_egfr', 'last_uacr', 'average_uacr', 'last_pu', 'average_pu',\n",
    "            'last_upcr', 'average_upcr', 'Obesity', 'Hypertension', 'Aldosteronism', 'Hyperuricemia', 'CKD_mild', 'CKD_DB', 'kidney_failure_not_CKD', 'kidney_transplant', 'dialysis', 'cardiovascular', 'diabetes',\n",
    "             'kidney', 'heart', 'liver', 'pancreas', 'islets', 'veins', 'uterus', 'small_intestine']\n",
    "    rows = []\n",
    "    for pid in tqdm(id_list):\n",
    "        fd = get_first_diagnosis(pid)\n",
    "        if fd is not None:\n",
    "            fd -= timedelta(days=delta)\n",
    "        CKD = fd != None\n",
    "        if not crop_when_diagnosed:\n",
    "            fd = None\n",
    "        rows.append(patient_to_row(Patient(pid, fd), CKD))\n",
    "    df_pat = pd.DataFrame(rows, columns=columns)\n",
    "    df_pat['CKD'] = df_pat['CKD'].astype(bool)\n",
    "    return df_pat"
   ],
   "id": "7906a9c95d9d7a49"
  },
  {
   "metadata": {},
   "cell_type": "code",
   "outputs": [],
   "execution_count": null,
   "source": "df_train = patients_to_df(train_ids, 0)",
   "id": "6f792d7bd2f06a6b"
  },
  {
   "metadata": {},
   "cell_type": "code",
   "outputs": [],
   "execution_count": null,
   "source": "df_test = patients_to_df(test_ids, 365)",
   "id": "db31f9da72a921de"
  },
  {
   "metadata": {},
   "cell_type": "code",
   "outputs": [],
   "execution_count": null,
   "source": "df_test_2yrs = patients_to_df(test_ids, 2*365)",
   "id": "61c7f47bbdb7b4ac"
  },
  {
   "metadata": {},
   "cell_type": "code",
   "outputs": [],
   "execution_count": null,
   "source": [
    "# df = df.dropna(subset=['last_egfr'], how='all')\n",
    "df_train = df_train.dropna(subset=['last_egfr'], how='all')\n",
    "df_test = df_test.dropna(subset=['last_egfr'], how='all')\n",
    "df_test_2yrs = df_test_2yrs.dropna(subset=['last_egfr'], how='all')"
   ],
   "id": "b7bec19ff354ad03"
  },
  {
   "metadata": {},
   "cell_type": "code",
   "outputs": [],
   "execution_count": null,
   "source": "# X_train, X_val, y_train, y_val = train_test_split(df.drop(columns = ['CDK', 'ID', 'Unnamed: 0']), df['CDK'], test_size=0.2, random_state=random_seed)",
   "id": "1beeaeda37f47fd7"
  },
  {
   "metadata": {},
   "cell_type": "code",
   "outputs": [],
   "execution_count": null,
   "source": [
    "X_train = df_train.drop(columns = ['CKD', 'ID', 'CKD_DB', 'CKD_mild'])\n",
    "y_train = df_train['CKD']"
   ],
   "id": "d52d8a79da5f2840"
  },
  {
   "metadata": {},
   "cell_type": "code",
   "outputs": [],
   "execution_count": null,
   "source": [
    "X_test = df_test.drop(columns = ['CKD', 'ID', 'CKD_DB', 'CKD_mild'])\n",
    "y_test = df_test['CKD']\n",
    "\n",
    "X_test_2yrs = df_test_2yrs.drop(columns = ['CKD', 'ID', 'CKD_DB', 'CKD_mild'])\n",
    "y_test_2yrs = df_test_2yrs['CKD']"
   ],
   "id": "cfdfb65c618504bd"
  },
  {
   "metadata": {},
   "cell_type": "code",
   "outputs": [],
   "execution_count": null,
   "source": [
    "clf = RandomForestClassifier(max_depth=3, random_state=random_seed, class_weight=\"balanced\" )\n",
    "clf.fit(X_train, y_train)"
   ],
   "id": "a032122fda00f0db"
  },
  {
   "metadata": {},
   "cell_type": "code",
   "outputs": [],
   "execution_count": null,
   "source": [
    "with open(\"../ML_models/RF_labs_diagnoses_unoptimised.pkl\", \"wb\") as model_file:\n",
    "    pickle.dump(clf, model_file)"
   ],
   "id": "81731486edf4e5b1"
  },
  {
   "metadata": {},
   "cell_type": "code",
   "outputs": [],
   "execution_count": null,
   "source": [
    "pred_train = clf.predict(X_train)\n",
    "pred_test = clf.predict(X_test)\n",
    "\n",
    "pred_test_2yrs = clf.predict(X_test_2yrs)"
   ],
   "id": "57d64b3da487bca0"
  },
  {
   "metadata": {},
   "cell_type": "code",
   "outputs": [],
   "execution_count": null,
   "source": "X_train[X_train['average_upcr'].isna()]",
   "id": "2f5880b6ffde2162"
  },
  {
   "metadata": {},
   "cell_type": "code",
   "outputs": [],
   "execution_count": null,
   "source": "X_train.head()",
   "id": "c3ba4b35ca921a33"
  },
  {
   "metadata": {},
   "cell_type": "code",
   "outputs": [],
   "execution_count": null,
   "source": [
    "# print(f\"train recall_score: {recall_score(y_train,pred_train)}\")\n",
    "# print(f\"val recall_score: {recall_score(y_val, pred_val)}\")\n",
    "# print(f\"train accuracy_score: {accuracy_score(y_train,pred_train)}\")\n",
    "# print(f\"val accuracy_score: {accuracy_score(y_val, pred_val)}\")\n",
    "# print(f\"train f1_score: {f1_score(y_train,pred_train)}\")\n",
    "# print(f\"val f1_score: {f1_score(y_val, pred_val)}\")\n",
    "# print(f\"train roc_auc_score: {roc_auc_score(y_train,pred_train)}\")\n",
    "# print(f\"val roc_auc_score: {roc_auc_score(y_val, pred_val)}\")\n",
    "# print(f\"train precision_score: {precision_score(y_train,pred_train)}\")\n",
    "# print(f\"val precision_score: {precision_score(y_val, pred_val)}\")\n",
    "\n",
    "print(f\"train recall_score: {recall_score(y_train, pred_train)}\")\n",
    "print(f\"test recall_score: {recall_score(y_test, pred_test)}\")\n",
    "print(f\"train accuracy_score: {accuracy_score(y_train, pred_train)}\")\n",
    "print(f\"test accuracy_score: {accuracy_score(y_test, pred_test)}\")\n",
    "print(f\"train f1_score: {f1_score(y_train, pred_train)}\")\n",
    "print(f\"test f1_score: {f1_score(y_test, pred_test)}\")\n",
    "print(f\"train roc_auc_score: {roc_auc_score(y_train, pred_train)}\")\n",
    "print(f\"test roc_auc_score: {roc_auc_score(y_test, pred_test)}\")\n",
    "print(f\"train precision_score: {precision_score(y_train, pred_train)}\")\n",
    "print(f\"test precision_score: {precision_score(y_test, pred_test)}\")"
   ],
   "id": "2424bbb326489165"
  },
  {
   "metadata": {},
   "cell_type": "code",
   "outputs": [],
   "execution_count": null,
   "source": [
    "print(f\"train recall_score: {recall_score(y_train, pred_train)}\")\n",
    "print(f\"test recall_score: {recall_score(y_test_2yrs, pred_test_2yrs)}\")\n",
    "print(f\"train accuracy_score: {accuracy_score(y_train, pred_train)}\")\n",
    "print(f\"test accuracy_score: {accuracy_score(y_test_2yrs, pred_test_2yrs)}\")\n",
    "print(f\"train f1_score: {f1_score(y_train, pred_train)}\")\n",
    "print(f\"test f1_score: {f1_score(y_test_2yrs, pred_test_2yrs)}\")\n",
    "print(f\"train roc_auc_score: {roc_auc_score(y_train, pred_train)}\")\n",
    "print(f\"test roc_auc_score: {roc_auc_score(y_test_2yrs, pred_test_2yrs)}\")\n",
    "print(f\"train precision_score: {precision_score(y_train, pred_train)}\")\n",
    "print(f\"test precision_score: {precision_score(y_test_2yrs, pred_test_2yrs)}\")"
   ],
   "id": "e2f0dfe77269e084"
  },
  {
   "metadata": {},
   "cell_type": "code",
   "outputs": [],
   "execution_count": null,
   "source": "print(confusion_matrix(y_test, pred_test))",
   "id": "1fc1df3df829455c"
  },
  {
   "metadata": {},
   "cell_type": "code",
   "outputs": [],
   "execution_count": null,
   "source": [
    "print(len(pred_test))\n",
    "print('actually false: ', len(y_test) - y_test.sum())\n",
    "print('pred as false: ', len(pred_test) - pred_test.sum())"
   ],
   "id": "e7d3c54a1d16e4c4"
  },
  {
   "metadata": {},
   "cell_type": "code",
   "outputs": [],
   "execution_count": null,
   "source": [
    "# for i, tree in enumerate(clf.estimators_):\n",
    "#     plt.figure(figsize=(10, 6))\n",
    "#     plot_tree(tree, filled=True, feature_names=X_train.columns, class_names=[\"False\", \"True\"])\n",
    "#     plt.title(f\"Decision Tree {i+1}\")\n",
    "#     plt.show()"
   ],
   "id": "bcde8e76e31e2feb"
  },
  {
   "metadata": {},
   "cell_type": "code",
   "outputs": [],
   "execution_count": null,
   "source": [
    "param_grid = {\n",
    "    \"n_estimators\": [50, 100],\n",
    "    \"max_depth\": [10, 20, None],\n",
    "    \"min_samples_split\": [2, 5, 10],\n",
    "    \"min_samples_leaf\": [1, 2, 4],\n",
    "    \"class_weight\": [\"balanced\"]  # Ensure class balancing\n",
    "}\n",
    "\n",
    "cv = StratifiedKFold(n_splits=5, shuffle=True, random_state=42)\n",
    "\n",
    "scorer = make_scorer(recall_score)\n",
    "\n",
    "with tqdm(total=len(param_grid[\"n_estimators\"]) * len(param_grid[\"max_depth\"]) * len(param_grid[\"min_samples_split\"]) * len(param_grid[\"min_samples_leaf\"])) as pbar:\n",
    "    def callback(*args, **kwargs):\n",
    "        pbar.update(1)\n",
    "\n",
    "    grid_search = GridSearchCV(\n",
    "        RandomForestClassifier(random_state=42),\n",
    "        param_grid,\n",
    "        scoring=scorer,  # Optimize for recall\n",
    "        cv=cv,\n",
    "        n_jobs=-1,  # Use all available CPU cores\n",
    "        verbose=2\n",
    "    )\n",
    "    grid_search.fit(X_train, y_train)\n",
    "\n",
    "# Fit the model\n",
    "grid_search.fit(X_train, y_train)\n",
    "\n",
    "# Get the best model\n",
    "best_model = grid_search.best_estimator_\n",
    "print(\"Best Recall Score:\", grid_search.best_score_)\n",
    "print(\"Best Parameters:\", grid_search.best_params_)"
   ],
   "id": "96e82a61a2b17985"
  },
  {
   "metadata": {},
   "cell_type": "code",
   "outputs": [],
   "execution_count": null,
   "source": [
    "best_clf = RandomForestClassifier(**grid_search.best_params_, random_state=42)\n",
    "best_clf.fit(X_train, y_train)"
   ],
   "id": "402cc86dfa938971"
  },
  {
   "metadata": {},
   "cell_type": "code",
   "outputs": [],
   "execution_count": null,
   "source": [
    "pred_train = best_clf.predict(X_train)\n",
    "pred_test = best_clf.predict(X_test)"
   ],
   "id": "ab09f2134696e4b9"
  },
  {
   "metadata": {},
   "cell_type": "code",
   "outputs": [],
   "execution_count": null,
   "source": [
    "print(f\"train recall_score: {recall_score(y_train, pred_train)}\")\n",
    "print(f\"test recall_score: {recall_score(y_test, pred_test)}\")\n",
    "print(f\"train accuracy_score: {accuracy_score(y_train, pred_train)}\")\n",
    "print(f\"test accuracy_score: {accuracy_score(y_test, pred_test)}\")\n",
    "print(f\"train f1_score: {f1_score(y_train, pred_train)}\")\n",
    "print(f\"test f1_score: {f1_score(y_test, pred_test)}\")\n",
    "print(f\"train roc_auc_score: {roc_auc_score(y_train, pred_train)}\")\n",
    "print(f\"test roc_auc_score: {roc_auc_score(y_test, pred_test)}\")\n",
    "print(f\"train precision_score: {precision_score(y_train, pred_train)}\")\n",
    "print(f\"test precision_score: {precision_score(y_test, pred_test)}\")"
   ],
   "id": "891c2d954e498f0a"
  },
  {
   "metadata": {},
   "cell_type": "code",
   "outputs": [],
   "execution_count": null,
   "source": "confusion_matrix(y_test, pred_test)",
   "id": "969a5bda041197ed"
  },
  {
   "metadata": {},
   "cell_type": "code",
   "outputs": [],
   "execution_count": null,
   "source": [
    "with open(\"../ML_models/RF_labs_diagnoses_optimised.pkl\", \"wb\") as model_file:\n",
    "    pickle.dump(best_clf, model_file)\n"
   ],
   "id": "d71049e5ab2cde9f"
  },
  {
   "metadata": {},
   "cell_type": "code",
   "outputs": [],
   "execution_count": null,
   "source": "",
   "id": "6736cf5f430b3093"
  }
 ],
 "metadata": {
  "kernelspec": {
   "display_name": "Python 3 (ipykernel)",
   "language": "python",
   "name": "python3"
  },
  "language_info": {
   "codemirror_mode": {
    "name": "ipython",
    "version": 3
   },
   "file_extension": ".py",
   "mimetype": "text/x-python",
   "name": "python",
   "nbconvert_exporter": "python",
   "pygments_lexer": "ipython3",
   "version": "3.12.3"
  }
 },
 "nbformat": 4,
 "nbformat_minor": 5
}
