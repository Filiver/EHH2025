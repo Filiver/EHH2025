{
 "cells": [
  {
   "cell_type": "code",
   "execution_count": 4,
   "metadata": {},
   "outputs": [
    {
     "name": "stdout",
     "output_type": "stream",
     "text": [
      "The autoreload extension is already loaded. To reload it, use:\n",
      "  %reload_ext autoreload\n"
     ]
    }
   ],
   "source": [
    "%load_ext autoreload\n",
    "%autoreload 2\n",
    "from pathlib import Path\n",
    "import pandas as pd\n",
    "import numpy as np\n",
    "import matplotlib.pyplot as plt\n",
    "import sqlite3\n",
    "from model import *\n",
    "from neuron import *\n",
    "from datetime import datetime,timedelta\n",
    "\n",
    "np.random.seed(10)\n",
    "\n",
    "DATA_DIR = Path(\"../../data\")\n",
    "res = pd.read_csv(DATA_DIR / \"first_diagnosis.csv\")[[\"Patient\",\"EntryDate\"]]\n",
    "positive = res['Patient']\n",
    "date_of_pos =res['EntryDate']\n",
    "\n",
    "negative = pd.read_csv(DATA_DIR / \"ckd_negative.csv\")[\"Patient_id\"]\n",
    "\n",
    "TRN_PORTION = 0.7\n",
    "pos_trn_idxs, pos_tst_idxs, neg_trn_idxs, neg_tst_idxs = generate(len(positive), len(negative), TRN_PORTION)\n",
    "\n",
    "pos_trn = positive[pos_trn_idxs].values\n",
    "pos_tst = positive[pos_tst_idxs].values\n",
    "neg_trn = negative[neg_trn_idxs].values\n",
    "neg_tst = negative[neg_tst_idxs].values\n",
    "date_of_pos_trn = date_of_pos[pos_trn_idxs].values\n",
    "date_of_pos_tst = date_of_pos[pos_tst_idxs].values\n",
    "\n"
   ]
  },
  {
   "cell_type": "code",
   "execution_count": 5,
   "metadata": {},
   "outputs": [
    {
     "name": "stdout",
     "output_type": "stream",
     "text": [
      "(1379, 2)\n",
      "1379\n"
     ]
    }
   ],
   "source": [
    "print(res.shape)\n",
    "print(res['Patient'].nunique())"
   ]
  },
  {
   "cell_type": "code",
   "execution_count": 3,
   "metadata": {},
   "outputs": [
    {
     "name": "stdout",
     "output_type": "stream",
     "text": [
      "{'patient_id': 840, 'date': datetime.date(2025, 3, 8), 'period': datetime.timedelta(days=365), 'sex': 0, 'dob': datetime.datetime(1968, 6, 13, 0, 0), 'age': 57, 'egfr_date': datetime.date(2025, 3, 5), 'egfr': 57.0, 'egfr_unit': 'ml/min/1,73 m2', 'egfr_note': None, 'average_egfr': 54.599999999999994, 'all_egfr': [57.0, 52.2, 51.0, 58.199999999999996], 'uacr_date': datetime.date(2025, 3, 5), 'uacr': 12.2, 'uacr_unit': 'g/mol', 'uacr_note': None, 'average_uacr': 11.424999999999999, 'all_uacr': [12.2, 8.5, 8.1, 16.9], 'pu_date': datetime.date(2017, 2, 17), 'pu': 0.084, 'pu_unit': 'g/l', 'pu_note': None, 'average_pu': 0.084, 'all_pu': [0.084], 'upcr_date': datetime.date(2017, 2, 17), 'upcr': 15.7, 'upcr_unit': 'g/mol', 'upcr_note': None, 'average_upcr': 15.7, 'all_upcr': [15.7], 's_kreatinin_date': datetime.date(2025, 3, 5), 's_kreatinin': 120.9, 's_kreatinin_unit': 'µmol/l', 's_kreatinin_note': None, 'average_s_kreatinin': 125.775, 'all_s_kreatinin': [120.9, 130.4, 132.5, 119.3], 'transplants': array([0, 0, 0, 0, 0, 0, 0, 0]), 'gfr_category': 3, 'uacr_category': 2, 'ckd_stage': 2, 'last_nefrology_visit': datetime.date(2014, 2, 21), 'in_nefrology_care': True, 'alerts': [4-KDIGO: Vysoké riziko CKD - doporučení k dalšímu vyšetření]}\n"
     ]
    }
   ],
   "source": [
    "p = Patient(840,None)\n",
    "print(p.__dict__)"
   ]
  },
  {
   "cell_type": "code",
   "execution_count": 5,
   "metadata": {},
   "outputs": [],
   "source": [
    "pos_tst = [Patient(p, datetime.strptime(date_of_pos_tst[i], \"%Y-%m-%d\").date()) for i, p in enumerate(pos_tst)]\n",
    "neg_tsts = [Patient(p,None) for p in neg_tst]"
   ]
  },
  {
   "cell_type": "code",
   "execution_count": null,
   "metadata": {},
   "outputs": [
    {
     "name": "stdout",
     "output_type": "stream",
     "text": [
      "60\n"
     ]
    }
   ],
   "source": [
    "cur_max = 0\n",
    "for p in pos_tst:\n",
    "     cur_max =max(len(p.all_egfr),cur_max)\n",
    "print(cur_max)\n"
   ]
  }
 ],
 "metadata": {
  "kernelspec": {
   "display_name": ".venv",
   "language": "python",
   "name": "python3"
  },
  "language_info": {
   "codemirror_mode": {
    "name": "ipython",
    "version": 3
   },
   "file_extension": ".py",
   "mimetype": "text/x-python",
   "name": "python",
   "nbconvert_exporter": "python",
   "pygments_lexer": "ipython3",
   "version": "3.12.3"
  }
 },
 "nbformat": 4,
 "nbformat_minor": 2
}
