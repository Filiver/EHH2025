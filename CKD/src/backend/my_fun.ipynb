{
 "cells": [
  {
   "cell_type": "code",
   "execution_count": 4,
   "metadata": {},
   "outputs": [],
   "source": [
    "%load_ext autoreload\n",
    "%autoreload 2\n",
    "from pathlib import Path\n",
    "import pandas as pd\n",
    "import numpy as np\n",
    "import matplotlib.pyplot as plt\n",
    "import sqlite3\n",
    "from model import *\n",
    "from neuron import *\n",
    "from datetime import datetime,timedelta\n",
    "\n",
    "np.random.seed(10)\n",
    "\n",
    "DATA_DIR = Path(\"../../data\")\n",
    "res = pd.read_csv(DATA_DIR / \"first_diagnosis.csv\")[[\"Patient\",\"EntryDate\"]]\n",
    "positive = res['Patient']\n",
    "date_of_pos =res['EntryDate']\n",
    "\n",
    "negative = pd.read_csv(DATA_DIR / \"ckd_negative.csv\")[\"Patient_id\"]\n",
    "\n",
    "TRN_PORTION = 0.7\n",
    "pos_trn_idxs, pos_tst_idxs, neg_trn_idxs, neg_tst_idxs = generate(len(positive), len(negative), TRN_PORTION)\n",
    "\n",
    "pos_trn = positive[pos_trn_idxs].values\n",
    "pos_tst = positive[pos_tst_idxs].values\n",
    "neg_trn = negative[neg_trn_idxs].values\n",
    "neg_tst = negative[neg_tst_idxs].values\n",
    "date_of_pos_trn = date_of_pos[pos_trn_idxs].values\n",
    "date_of_pos_tst = date_of_pos[pos_tst_idxs].values\n",
    "\n"
   ]
  },
  {
   "cell_type": "code",
   "execution_count": 5,
   "metadata": {},
   "outputs": [],
   "source": [
    "pos_tst = [Patient(p, datetime.strptime(date_of_pos_tst[i], \"%Y-%m-%d\").date()) for i, p in enumerate(pos_tst)]\n",
    "neg_tsts = [Patient(p,None) for p in neg_tst]"
   ]
  },
  {
   "cell_type": "code",
   "execution_count": null,
   "metadata": {},
   "outputs": [
    {
     "name": "stdout",
     "output_type": "stream",
     "text": [
      "60\n"
     ]
    }
   ],
   "source": [
    "cur_max = 0\n",
    "for p in pos_tst:\n",
    "     cur_max =max(len(p.all_egfr),cur_max)\n",
    "print(cur_max)\n"
   ]
  }
 ],
 "metadata": {
  "kernelspec": {
   "display_name": ".venv",
   "language": "python",
   "name": "python3"
  },
  "language_info": {
   "codemirror_mode": {
    "name": "ipython",
    "version": 3
   },
   "file_extension": ".py",
   "mimetype": "text/x-python",
   "name": "python",
   "nbconvert_exporter": "python",
   "pygments_lexer": "ipython3",
   "version": "3.12.3"
  }
 },
 "nbformat": 4,
 "nbformat_minor": 2
}
